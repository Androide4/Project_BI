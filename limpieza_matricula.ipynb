{
 "cells": [
  {
   "cell_type": "markdown",
   "id": "fe74655a",
   "metadata": {},
   "source": [
    "PROYECTO DE BI PARA ESCUELA DEPORTIVA, TABLA CLASE"
   ]
  },
  {
   "cell_type": "markdown",
   "id": "2cc5a503",
   "metadata": {},
   "source": [
    "PAQUETES E IMPORTACIONES A UTILIZAR"
   ]
  },
  {
   "cell_type": "code",
   "execution_count": 3,
   "id": "a630f0dd",
   "metadata": {},
   "outputs": [],
   "source": [
    "#crear entorno virtual en la carpeta del proyecto:\n",
    "# python -m venv env o mi_entorno\n",
    "# env/Script/Activate         para activar el entorno virtual en windows\n",
    "# source env/bin/activate     para activar en linux\n",
    "#instalar las siguientes librerias\n",
    "\n",
    "#desactivar / deactivate\n",
    "\n",
    "import pandas as pd\n",
    "import matplotlib.pyplot as plt\n",
    "import seaborn as sns\n",
    "import numpy as np\n",
    "from sklearn.impute import SimpleImputer #pip install scikit-learn\n"
   ]
  },
  {
   "cell_type": "markdown",
   "id": "81de621d",
   "metadata": {},
   "source": [
    "Cargar los datos"
   ]
  },
  {
   "cell_type": "code",
   "execution_count": 4,
   "id": "926658cb",
   "metadata": {},
   "outputs": [],
   "source": [
    "data = pd.read_csv('data/datos_sinprocesar/matricula_202510051809.csv')"
   ]
  },
  {
   "cell_type": "markdown",
   "id": "1113f02e",
   "metadata": {},
   "source": [
    "Visualizar los datos"
   ]
  },
  {
   "cell_type": "code",
   "execution_count": 4,
   "id": "374d6ac5",
   "metadata": {},
   "outputs": [
    {
     "data": {
      "text/html": [
       "<div>\n",
       "<style scoped>\n",
       "    .dataframe tbody tr th:only-of-type {\n",
       "        vertical-align: middle;\n",
       "    }\n",
       "\n",
       "    .dataframe tbody tr th {\n",
       "        vertical-align: top;\n",
       "    }\n",
       "\n",
       "    .dataframe thead th {\n",
       "        text-align: right;\n",
       "    }\n",
       "</style>\n",
       "<table border=\"1\" class=\"dataframe\">\n",
       "  <thead>\n",
       "    <tr style=\"text-align: right;\">\n",
       "      <th></th>\n",
       "      <th>id_matricula</th>\n",
       "      <th>costo</th>\n",
       "      <th>fecha_pago</th>\n",
       "    </tr>\n",
       "  </thead>\n",
       "  <tbody>\n",
       "    <tr>\n",
       "      <th>0</th>\n",
       "      <td>1</td>\n",
       "      <td>195188.22</td>\n",
       "      <td>2023-10-11 01:07:18</td>\n",
       "    </tr>\n",
       "    <tr>\n",
       "      <th>1</th>\n",
       "      <td>2</td>\n",
       "      <td>100000.00</td>\n",
       "      <td>2024-11-10 18:40:09</td>\n",
       "    </tr>\n",
       "    <tr>\n",
       "      <th>2</th>\n",
       "      <td>3</td>\n",
       "      <td>100000.00</td>\n",
       "      <td>2025-07-15 19:27:28</td>\n",
       "    </tr>\n",
       "    <tr>\n",
       "      <th>3</th>\n",
       "      <td>4</td>\n",
       "      <td>116713.39</td>\n",
       "      <td>2025-05-04 16:23:44</td>\n",
       "    </tr>\n",
       "    <tr>\n",
       "      <th>4</th>\n",
       "      <td>5</td>\n",
       "      <td>100000.00</td>\n",
       "      <td>2024-05-29 19:03:32</td>\n",
       "    </tr>\n",
       "  </tbody>\n",
       "</table>\n",
       "</div>"
      ],
      "text/plain": [
       "   id_matricula      costo           fecha_pago\n",
       "0             1  195188.22  2023-10-11 01:07:18\n",
       "1             2  100000.00  2024-11-10 18:40:09\n",
       "2             3  100000.00  2025-07-15 19:27:28\n",
       "3             4  116713.39  2025-05-04 16:23:44\n",
       "4             5  100000.00  2024-05-29 19:03:32"
      ]
     },
     "execution_count": 4,
     "metadata": {},
     "output_type": "execute_result"
    }
   ],
   "source": [
    "data.head()"
   ]
  },
  {
   "cell_type": "markdown",
   "id": "1daf171f",
   "metadata": {},
   "source": [
    "Verificar la estructura de los datos"
   ]
  },
  {
   "cell_type": "code",
   "execution_count": 8,
   "id": "bd4bda89",
   "metadata": {},
   "outputs": [
    {
     "name": "stdout",
     "output_type": "stream",
     "text": [
      "<class 'pandas.core.frame.DataFrame'>\n",
      "RangeIndex: 1000 entries, 0 to 999\n",
      "Data columns (total 3 columns):\n",
      " #   Column        Non-Null Count  Dtype  \n",
      "---  ------        --------------  -----  \n",
      " 0   id_matricula  1000 non-null   int64  \n",
      " 1   costo         909 non-null    float64\n",
      " 2   fecha_pago    1000 non-null   object \n",
      "dtypes: float64(1), int64(1), object(1)\n",
      "memory usage: 23.6+ KB\n"
     ]
    }
   ],
   "source": [
    "data.info()"
   ]
  },
  {
   "cell_type": "markdown",
   "id": "e870396a",
   "metadata": {},
   "source": [
    "Estadistico"
   ]
  },
  {
   "cell_type": "code",
   "execution_count": 6,
   "id": "5c5c7c5f",
   "metadata": {},
   "outputs": [
    {
     "data": {
      "text/html": [
       "<div>\n",
       "<style scoped>\n",
       "    .dataframe tbody tr th:only-of-type {\n",
       "        vertical-align: middle;\n",
       "    }\n",
       "\n",
       "    .dataframe tbody tr th {\n",
       "        vertical-align: top;\n",
       "    }\n",
       "\n",
       "    .dataframe thead th {\n",
       "        text-align: right;\n",
       "    }\n",
       "</style>\n",
       "<table border=\"1\" class=\"dataframe\">\n",
       "  <thead>\n",
       "    <tr style=\"text-align: right;\">\n",
       "      <th></th>\n",
       "      <th>id_matricula</th>\n",
       "      <th>costo</th>\n",
       "    </tr>\n",
       "  </thead>\n",
       "  <tbody>\n",
       "    <tr>\n",
       "      <th>count</th>\n",
       "      <td>1000.000000</td>\n",
       "      <td>909.000000</td>\n",
       "    </tr>\n",
       "    <tr>\n",
       "      <th>mean</th>\n",
       "      <td>500.500000</td>\n",
       "      <td>123563.342255</td>\n",
       "    </tr>\n",
       "    <tr>\n",
       "      <th>std</th>\n",
       "      <td>288.819436</td>\n",
       "      <td>54120.382012</td>\n",
       "    </tr>\n",
       "    <tr>\n",
       "      <th>min</th>\n",
       "      <td>1.000000</td>\n",
       "      <td>50915.900000</td>\n",
       "    </tr>\n",
       "    <tr>\n",
       "      <th>25%</th>\n",
       "      <td>250.750000</td>\n",
       "      <td>100000.000000</td>\n",
       "    </tr>\n",
       "    <tr>\n",
       "      <th>50%</th>\n",
       "      <td>500.500000</td>\n",
       "      <td>100000.000000</td>\n",
       "    </tr>\n",
       "    <tr>\n",
       "      <th>75%</th>\n",
       "      <td>750.250000</td>\n",
       "      <td>100000.000000</td>\n",
       "    </tr>\n",
       "    <tr>\n",
       "      <th>max</th>\n",
       "      <td>1000.000000</td>\n",
       "      <td>299076.660000</td>\n",
       "    </tr>\n",
       "  </tbody>\n",
       "</table>\n",
       "</div>"
      ],
      "text/plain": [
       "       id_matricula          costo\n",
       "count   1000.000000     909.000000\n",
       "mean     500.500000  123563.342255\n",
       "std      288.819436   54120.382012\n",
       "min        1.000000   50915.900000\n",
       "25%      250.750000  100000.000000\n",
       "50%      500.500000  100000.000000\n",
       "75%      750.250000  100000.000000\n",
       "max     1000.000000  299076.660000"
      ]
     },
     "execution_count": 6,
     "metadata": {},
     "output_type": "execute_result"
    }
   ],
   "source": [
    "data.describe()"
   ]
  },
  {
   "cell_type": "markdown",
   "id": "18fbe6c7",
   "metadata": {},
   "source": [
    "Estadistica de Campos Categoricos"
   ]
  },
  {
   "cell_type": "code",
   "execution_count": 7,
   "id": "25717be0",
   "metadata": {},
   "outputs": [
    {
     "data": {
      "text/html": [
       "<div>\n",
       "<style scoped>\n",
       "    .dataframe tbody tr th:only-of-type {\n",
       "        vertical-align: middle;\n",
       "    }\n",
       "\n",
       "    .dataframe tbody tr th {\n",
       "        vertical-align: top;\n",
       "    }\n",
       "\n",
       "    .dataframe thead th {\n",
       "        text-align: right;\n",
       "    }\n",
       "</style>\n",
       "<table border=\"1\" class=\"dataframe\">\n",
       "  <thead>\n",
       "    <tr style=\"text-align: right;\">\n",
       "      <th></th>\n",
       "      <th>fecha_pago</th>\n",
       "    </tr>\n",
       "  </thead>\n",
       "  <tbody>\n",
       "    <tr>\n",
       "      <th>count</th>\n",
       "      <td>1000</td>\n",
       "    </tr>\n",
       "    <tr>\n",
       "      <th>unique</th>\n",
       "      <td>1000</td>\n",
       "    </tr>\n",
       "    <tr>\n",
       "      <th>top</th>\n",
       "      <td>2023-10-11 01:07:18</td>\n",
       "    </tr>\n",
       "    <tr>\n",
       "      <th>freq</th>\n",
       "      <td>1</td>\n",
       "    </tr>\n",
       "  </tbody>\n",
       "</table>\n",
       "</div>"
      ],
      "text/plain": [
       "                 fecha_pago\n",
       "count                  1000\n",
       "unique                 1000\n",
       "top     2023-10-11 01:07:18\n",
       "freq                      1"
      ]
     },
     "execution_count": 7,
     "metadata": {},
     "output_type": "execute_result"
    }
   ],
   "source": [
    "data.describe(include='O')"
   ]
  },
  {
   "cell_type": "markdown",
   "id": "84579c25",
   "metadata": {},
   "source": [
    "Visualizar el tamaño del dataset (dataframe)"
   ]
  },
  {
   "cell_type": "code",
   "execution_count": 9,
   "id": "eaebbcb1",
   "metadata": {},
   "outputs": [
    {
     "data": {
      "text/plain": [
       "(1000, 3)"
      ]
     },
     "execution_count": 9,
     "metadata": {},
     "output_type": "execute_result"
    }
   ],
   "source": [
    "data.shape"
   ]
  },
  {
   "cell_type": "markdown",
   "id": "5fe34ceb",
   "metadata": {},
   "source": [
    "OUTLIERS - Modo Grafico"
   ]
  },
  {
   "cell_type": "code",
   "execution_count": 6,
   "id": "33750aef",
   "metadata": {},
   "outputs": [
    {
     "data": {
      "image/png": "[encoded data removed]",
      "text/plain": [
       "<Figure size 1000x100 with 1 Axes>"
      ]
     },
     "metadata": {},
     "output_type": "display_data"
    },
    {
     "data": {
      "image/png": "[encoded data removed]",
      "text/plain": [
       "<Figure size 1000x100 with 1 Axes>"
      ]
     },
     "metadata": {},
     "output_type": "display_data"
    }
   ],
   "source": [
    "cols = data.select_dtypes(include=['number']).columns\n",
    "for col in cols:\n",
    "    plt.figure(figsize=(10,1))\n",
    "    sns.boxplot(data=data[cols], x=col)\n",
    "    #sns.boxplot(x=data[col])\n",
    "    plt.title(f'Boxplot de {col}')\n",
    "    plt.show()"
   ]
  },
  {
   "cell_type": "markdown",
   "id": "5e36516b",
   "metadata": {},
   "source": [
    "OUTLIERS - Calculado\n",
    "\n",
    "rango intercuartilico IRQ"
   ]
  },
  {
   "cell_type": "code",
   "execution_count": 7,
   "id": "32541cb5",
   "metadata": {},
   "outputs": [
    {
     "name": "stdout",
     "output_type": "stream",
     "text": [
      "id_matricula: 0 outliers\n",
      "  Límites: [-498.50, 1499.50]\n",
      "  Min: 1, Max: 1000\n",
      "----------------------------------------\n",
      "costo: 0 outliers\n",
      "  Límites: [nan, nan]\n",
      "  Min: 50915.9, Max: 299076.66\n",
      "----------------------------------------\n"
     ]
    }
   ],
   "source": [
    "outliers = {}\n",
    "\n",
    "for col in cols:\n",
    "    Q1 = np.percentile(data[col], 25)\n",
    "    Q3 = np.percentile(data[col], 75)\n",
    "    IQR = Q3 - Q1  # Rango Intercuartílico\n",
    "\n",
    "    LI = Q1 - 1.5 * IQR  # Límite inferior\n",
    "    LS = Q3 + 1.5 * IQR  # Límite superior\n",
    "\n",
    "    outliers_col = data[(data[col] < LI) | (data[col] > LS)][col]\n",
    "    outliers[col] = outliers_col\n",
    "\n",
    "    print(f'{col}: {len(outliers_col)} outliers')\n",
    "    print(f'  Límites: [{LI:.2f}, {LS:.2f}]')\n",
    "    print(f'  Min: {data[col].min()}, Max: {data[col].max()}')\n",
    "    print('-' * 40)"
   ]
  },
  {
   "cell_type": "markdown",
   "id": "43734b90",
   "metadata": {},
   "source": [
    "STR"
   ]
  },
  {
   "cell_type": "code",
   "execution_count": 19,
   "id": "a4ec366c",
   "metadata": {},
   "outputs": [
    {
     "name": "stdout",
     "output_type": "stream",
     "text": [
      "{'id_matricula': np.int64(0), 'costo': np.int64(15)}\n"
     ]
    }
   ],
   "source": [
    "outliers={}\n",
    "for col in cols:\n",
    "  mean=data[col].mean()\n",
    "  std=data[col].std()\n",
    "\n",
    "  outliers[col] = (data[col] > (mean + 3 *std)).sum() + (data[col] < (mean - 3 *std)).sum()\n",
    "\n",
    "print(outliers)"
   ]
  },
  {
   "cell_type": "markdown",
   "id": "97e73943",
   "metadata": {},
   "source": [
    "Histogramas - Outliers"
   ]
  },
  {
   "cell_type": "code",
   "execution_count": 20,
   "id": "db5e97d1",
   "metadata": {},
   "outputs": [
    {
     "data": {
      "text/plain": [
       "<Axes: xlabel='costo', ylabel='Count'>"
      ]
     },
     "execution_count": 20,
     "metadata": {},
     "output_type": "execute_result"
    },
    {
     "data": {
      "image/png": "[encoded data removed]",
      "text/plain": [
       "<Figure size 640x480 with 1 Axes>"
      ]
     },
     "metadata": {},
     "output_type": "display_data"
    }
   ],
   "source": [
    "sns.histplot(data=data, x='costo', kde=True)"
   ]
  },
  {
   "cell_type": "markdown",
   "id": "ed960a86",
   "metadata": {},
   "source": [
    "Valores Nulos"
   ]
  },
  {
   "cell_type": "code",
   "execution_count": 15,
   "id": "e95c5575",
   "metadata": {},
   "outputs": [
    {
     "data": {
      "text/plain": [
       "id_matricula    0.0\n",
       "costo           9.1\n",
       "fecha_pago      0.0\n",
       "dtype: float64"
      ]
     },
     "execution_count": 15,
     "metadata": {},
     "output_type": "execute_result"
    }
   ],
   "source": [
    "data.isna().mean()*100"
   ]
  },
  {
   "cell_type": "markdown",
   "id": "efc23a2d",
   "metadata": {},
   "source": [
    "Eliminar valores Nulos"
   ]
  },
  {
   "cell_type": "code",
   "execution_count": 13,
   "id": "95c443d7",
   "metadata": {},
   "outputs": [
    {
     "name": "stdout",
     "output_type": "stream",
     "text": [
      "<class 'pandas.core.frame.DataFrame'>\n",
      "Index: 909 entries, 0 to 999\n",
      "Data columns (total 3 columns):\n",
      " #   Column        Non-Null Count  Dtype  \n",
      "---  ------        --------------  -----  \n",
      " 0   id_matricula  909 non-null    int64  \n",
      " 1   costo         909 non-null    float64\n",
      " 2   fecha_pago    909 non-null    object \n",
      "dtypes: float64(1), int64(1), object(1)\n",
      "memory usage: 28.4+ KB\n"
     ]
    }
   ],
   "source": [
    "# Eliminar filas con valores nulos en la columna y filas donde el nombre esta vacio (cadena vacia o solo espacios)\n",
    "data = data[data['costo'].notna() & (data['costo'] != '')]\n",
    "data.info()"
   ]
  },
  {
   "cell_type": "markdown",
   "id": "21955fe6",
   "metadata": {},
   "source": [
    "Guardar data limpia de valores nulos eliminados"
   ]
  },
  {
   "cell_type": "code",
   "execution_count": 16,
   "id": "5fee123d",
   "metadata": {},
   "outputs": [],
   "source": [
    "data.to_csv('data/datos_preprocesados/matricula.csv', index=False)"
   ]
  },
  {
   "cell_type": "markdown",
   "id": "949806e4",
   "metadata": {},
   "source": [
    "Imputar datos"
   ]
  },
  {
   "cell_type": "code",
   "execution_count": 22,
   "id": "78cf64fc",
   "metadata": {},
   "outputs": [
    {
     "name": "stdout",
     "output_type": "stream",
     "text": [
      "Mediana inicial:  100000.0\n",
      "\n",
      "Nulos en los nuevos datos:  0    0\n",
      "dtype: int64\n",
      "\n",
      "Mediana nuevos datos:  0    100000.0\n",
      "dtype: float64\n"
     ]
    }
   ],
   "source": [
    "impute=SimpleImputer(strategy='median')\n",
    "\n",
    "print('Mediana inicial: ', data['costo'].median())\n",
    "\n",
    "salida=impute.fit_transform(data[['costo']])\n",
    "\n",
    "salida=pd.DataFrame(salida)\n",
    "\n",
    "print('\\nNulos en los nuevos datos: ',salida.isna().sum())\n",
    "print('\\nMediana nuevos datos: ',salida.median())\n"
   ]
  },
  {
   "cell_type": "markdown",
   "id": "53c14a84",
   "metadata": {},
   "source": [
    "Limpieza relacional con la tabla alumno"
   ]
  },
  {
   "cell_type": "code",
   "execution_count": 17,
   "id": "3fe5efc1",
   "metadata": {},
   "outputs": [],
   "source": [
    "alumnos = pd.read_csv('data/datos_procesador/alumno_limpio.csv')\n"
   ]
  },
  {
   "cell_type": "code",
   "execution_count": 18,
   "id": "98dbc888",
   "metadata": {},
   "outputs": [],
   "source": [
    "matricula = pd.read_csv('data/datos_preprocesados/matricula.csv')"
   ]
  },
  {
   "cell_type": "code",
   "execution_count": 19,
   "id": "762521db",
   "metadata": {},
   "outputs": [],
   "source": [
    "ids_matricula_validos = alumnos['matricula_id'].unique()\n",
    "\n",
    "matricula = matricula[matricula['id_matricula'].isin(ids_matricula_validos)]\n"
   ]
  },
  {
   "cell_type": "code",
   "execution_count": 20,
   "id": "888de247",
   "metadata": {},
   "outputs": [
    {
     "name": "stdout",
     "output_type": "stream",
     "text": [
      "Filas finales en matricula: 234\n",
      "IDs únicos en alumnos: 255\n",
      "IDs únicos en matricula: 234\n"
     ]
    }
   ],
   "source": [
    "print('Filas finales en matricula:', matricula.shape[0])\n",
    "print('IDs únicos en alumnos:', alumnos['matricula_id'].nunique())\n",
    "print('IDs únicos en matricula:', matricula['id_matricula'].nunique())\n"
   ]
  },
  {
   "cell_type": "markdown",
   "id": "6ab948bd",
   "metadata": {},
   "source": [
    "Guardar datos"
   ]
  },
  {
   "cell_type": "code",
   "execution_count": 21,
   "id": "ff5a4b16",
   "metadata": {},
   "outputs": [],
   "source": [
    "matricula.to_csv('data/datos_procesador/matricula_limpia.csv', index=False)"
   ]
  }
 ],
 "metadata": {
  "kernelspec": {
   "display_name": "env",
   "language": "python",
   "name": "python3"
  },
  "language_info": {
   "codemirror_mode": {
    "name": "ipython",
    "version": 3
   },
   "file_extension": ".py",
   "mimetype": "text/x-python",
   "name": "python",
   "nbconvert_exporter": "python",
   "pygments_lexer": "ipython3",
   "version": "3.13.7"
  }
 },
 "nbformat": 4,
 "nbformat_minor": 5
}
