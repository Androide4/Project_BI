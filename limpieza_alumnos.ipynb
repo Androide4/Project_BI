{
 "cells": [
  {
   "cell_type": "markdown",
   "id": "fe74655a",
   "metadata": {},
   "source": [
    "PROYECTO DE BI PARA ESCUELA DEPORTIVA, TABLA ALUMNO"
   ]
  },
  {
   "cell_type": "markdown",
   "id": "2cc5a503",
   "metadata": {},
   "source": [
    "PAQUETES E IMPORTACIONES A UTILIZAR"
   ]
  },
  {
   "cell_type": "code",
   "execution_count": 1,
   "id": "a630f0dd",
   "metadata": {},
   "outputs": [],
   "source": [
    "#crear entorno virtual en la carpeta del proyecto:\n",
    "# python -m venv env o mi_entorno\n",
    "# env/Script/Activate         para activar el entorno virtual en windows\n",
    "# source env/bin/activate     para activar en linux\n",
    "#instalar las siguientes librerias\n",
    "\n",
    "#desactivar entorno     deactivate\n",
    "\n",
    "import pandas as pd\n",
    "import matplotlib.pyplot as plt\n",
    "import seaborn as sns\n",
    "import numpy as np\n",
    "from sklearn.impute import SimpleImputer #pip install scikit-learn\n"
   ]
  },
  {
   "cell_type": "markdown",
   "id": "81de621d",
   "metadata": {},
   "source": [
    "Cargar los datos"
   ]
  },
  {
   "cell_type": "code",
   "execution_count": 3,
   "id": "926658cb",
   "metadata": {},
   "outputs": [],
   "source": [
    "data = pd.read_csv('data/datos_sinprocesar/alumno_202510042011.csv')"
   ]
  },
  {
   "cell_type": "markdown",
   "id": "1113f02e",
   "metadata": {},
   "source": [
    "Visualizar los datos"
   ]
  },
  {
   "cell_type": "code",
   "execution_count": null,
   "id": "374d6ac5",
   "metadata": {},
   "outputs": [],
   "source": [
    "data.head()"
   ]
  }
 ],
 "metadata": {
  "kernelspec": {
   "display_name": "env",
   "language": "python",
   "name": "python3"
  },
  "language_info": {
   "codemirror_mode": {
    "name": "ipython",
    "version": 3
   },
   "file_extension": ".py",
   "mimetype": "text/x-python",
   "name": "python",
   "nbconvert_exporter": "python",
   "pygments_lexer": "ipython3",
   "version": "3.13.7"
  }
 },
 "nbformat": 4,
 "nbformat_minor": 5
}
