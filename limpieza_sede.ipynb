{
 "cells": [
  {
   "cell_type": "markdown",
   "id": "fe74655a",
   "metadata": {},
   "source": [
    "PROYECTO DE BI PARA ESCUELA DEPORTIVA, TABLA SEDE"
   ]
  },
  {
   "cell_type": "markdown",
   "id": "2cc5a503",
   "metadata": {},
   "source": [
    "PAQUETES E IMPORTACIONES A UTILIZAR"
   ]
  },
  {
   "cell_type": "code",
   "execution_count": 1,
   "id": "a630f0dd",
   "metadata": {},
   "outputs": [],
   "source": [
    "#crear entorno virtual en la carpeta del proyecto:\n",
    "# python -m venv env o mi_entorno\n",
    "# env/Script/Activate         para activar el entorno virtual en windows\n",
    "# source env/bin/activate     para activar en linux\n",
    "#instalar las siguientes librerias\n",
    "\n",
    "#desactivar / deactivate\n",
    "\n",
    "import pandas as pd\n",
    "import matplotlib.pyplot as plt\n",
    "import seaborn as sns\n",
    "import numpy as np\n",
    "from sklearn.impute import SimpleImputer #pip install scikit-learn\n"
   ]
  },
  {
   "cell_type": "markdown",
   "id": "81de621d",
   "metadata": {},
   "source": [
    "Cargar los datos"
   ]
  },
  {
   "cell_type": "code",
   "execution_count": 2,
   "id": "926658cb",
   "metadata": {},
   "outputs": [],
   "source": [
    "data = pd.read_csv('data/datos_sinprocesar/sede_202510042015.csv')"
   ]
  },
  {
   "cell_type": "markdown",
   "id": "1113f02e",
   "metadata": {},
   "source": [
    "Visualizar los datos"
   ]
  },
  {
   "cell_type": "code",
   "execution_count": 3,
   "id": "374d6ac5",
   "metadata": {},
   "outputs": [
    {
     "data": {
      "text/html": [
       "<div>\n",
       "<style scoped>\n",
       "    .dataframe tbody tr th:only-of-type {\n",
       "        vertical-align: middle;\n",
       "    }\n",
       "\n",
       "    .dataframe tbody tr th {\n",
       "        vertical-align: top;\n",
       "    }\n",
       "\n",
       "    .dataframe thead th {\n",
       "        text-align: right;\n",
       "    }\n",
       "</style>\n",
       "<table border=\"1\" class=\"dataframe\">\n",
       "  <thead>\n",
       "    <tr style=\"text-align: right;\">\n",
       "      <th></th>\n",
       "      <th>id_sede</th>\n",
       "      <th>nombre_sede</th>\n",
       "      <th>ubicacion</th>\n",
       "    </tr>\n",
       "  </thead>\n",
       "  <tbody>\n",
       "    <tr>\n",
       "      <th>0</th>\n",
       "      <td>17</td>\n",
       "      <td>Sede Principal</td>\n",
       "      <td>Ciudad A</td>\n",
       "    </tr>\n",
       "    <tr>\n",
       "      <th>1</th>\n",
       "      <td>18</td>\n",
       "      <td>Sede kuyTG</td>\n",
       "      <td>Ciudad B</td>\n",
       "    </tr>\n",
       "    <tr>\n",
       "      <th>2</th>\n",
       "      <td>19</td>\n",
       "      <td>Sede Principal</td>\n",
       "      <td>Ciudad E</td>\n",
       "    </tr>\n",
       "    <tr>\n",
       "      <th>3</th>\n",
       "      <td>20</td>\n",
       "      <td>Sede Principal</td>\n",
       "      <td>Ciudad D</td>\n",
       "    </tr>\n",
       "    <tr>\n",
       "      <th>4</th>\n",
       "      <td>21</td>\n",
       "      <td>Sede qzDUcCVh</td>\n",
       "      <td>Ciudad B</td>\n",
       "    </tr>\n",
       "  </tbody>\n",
       "</table>\n",
       "</div>"
      ],
      "text/plain": [
       "   id_sede     nombre_sede ubicacion\n",
       "0       17  Sede Principal  Ciudad A\n",
       "1       18      Sede kuyTG  Ciudad B\n",
       "2       19  Sede Principal  Ciudad E\n",
       "3       20  Sede Principal  Ciudad D\n",
       "4       21   Sede qzDUcCVh  Ciudad B"
      ]
     },
     "execution_count": 3,
     "metadata": {},
     "output_type": "execute_result"
    }
   ],
   "source": [
    "data.head()"
   ]
  },
  {
   "cell_type": "markdown",
   "id": "1daf171f",
   "metadata": {},
   "source": [
    "Verificar la estructura de los datos"
   ]
  },
  {
   "cell_type": "code",
   "execution_count": 4,
   "id": "bd4bda89",
   "metadata": {},
   "outputs": [
    {
     "name": "stdout",
     "output_type": "stream",
     "text": [
      "<class 'pandas.core.frame.DataFrame'>\n",
      "RangeIndex: 1000 entries, 0 to 999\n",
      "Data columns (total 3 columns):\n",
      " #   Column       Non-Null Count  Dtype \n",
      "---  ------       --------------  ----- \n",
      " 0   id_sede      1000 non-null   int64 \n",
      " 1   nombre_sede  1000 non-null   object\n",
      " 2   ubicacion    909 non-null    object\n",
      "dtypes: int64(1), object(2)\n",
      "memory usage: 23.6+ KB\n"
     ]
    }
   ],
   "source": [
    "data.info()"
   ]
  },
  {
   "cell_type": "markdown",
   "id": "e870396a",
   "metadata": {},
   "source": [
    "Estadistico"
   ]
  },
  {
   "cell_type": "code",
   "execution_count": 5,
   "id": "5c5c7c5f",
   "metadata": {},
   "outputs": [
    {
     "data": {
      "text/html": [
       "<div>\n",
       "<style scoped>\n",
       "    .dataframe tbody tr th:only-of-type {\n",
       "        vertical-align: middle;\n",
       "    }\n",
       "\n",
       "    .dataframe tbody tr th {\n",
       "        vertical-align: top;\n",
       "    }\n",
       "\n",
       "    .dataframe thead th {\n",
       "        text-align: right;\n",
       "    }\n",
       "</style>\n",
       "<table border=\"1\" class=\"dataframe\">\n",
       "  <thead>\n",
       "    <tr style=\"text-align: right;\">\n",
       "      <th></th>\n",
       "      <th>id_sede</th>\n",
       "    </tr>\n",
       "  </thead>\n",
       "  <tbody>\n",
       "    <tr>\n",
       "      <th>count</th>\n",
       "      <td>1000.000000</td>\n",
       "    </tr>\n",
       "    <tr>\n",
       "      <th>mean</th>\n",
       "      <td>516.500000</td>\n",
       "    </tr>\n",
       "    <tr>\n",
       "      <th>std</th>\n",
       "      <td>288.819436</td>\n",
       "    </tr>\n",
       "    <tr>\n",
       "      <th>min</th>\n",
       "      <td>17.000000</td>\n",
       "    </tr>\n",
       "    <tr>\n",
       "      <th>25%</th>\n",
       "      <td>266.750000</td>\n",
       "    </tr>\n",
       "    <tr>\n",
       "      <th>50%</th>\n",
       "      <td>516.500000</td>\n",
       "    </tr>\n",
       "    <tr>\n",
       "      <th>75%</th>\n",
       "      <td>766.250000</td>\n",
       "    </tr>\n",
       "    <tr>\n",
       "      <th>max</th>\n",
       "      <td>1016.000000</td>\n",
       "    </tr>\n",
       "  </tbody>\n",
       "</table>\n",
       "</div>"
      ],
      "text/plain": [
       "           id_sede\n",
       "count  1000.000000\n",
       "mean    516.500000\n",
       "std     288.819436\n",
       "min      17.000000\n",
       "25%     266.750000\n",
       "50%     516.500000\n",
       "75%     766.250000\n",
       "max    1016.000000"
      ]
     },
     "execution_count": 5,
     "metadata": {},
     "output_type": "execute_result"
    }
   ],
   "source": [
    "data.describe()"
   ]
  },
  {
   "cell_type": "markdown",
   "id": "18fbe6c7",
   "metadata": {},
   "source": [
    "Estadistica de Campos Categoricos"
   ]
  },
  {
   "cell_type": "code",
   "execution_count": 6,
   "id": "25717be0",
   "metadata": {},
   "outputs": [
    {
     "data": {
      "text/html": [
       "<div>\n",
       "<style scoped>\n",
       "    .dataframe tbody tr th:only-of-type {\n",
       "        vertical-align: middle;\n",
       "    }\n",
       "\n",
       "    .dataframe tbody tr th {\n",
       "        vertical-align: top;\n",
       "    }\n",
       "\n",
       "    .dataframe thead th {\n",
       "        text-align: right;\n",
       "    }\n",
       "</style>\n",
       "<table border=\"1\" class=\"dataframe\">\n",
       "  <thead>\n",
       "    <tr style=\"text-align: right;\">\n",
       "      <th></th>\n",
       "      <th>nombre_sede</th>\n",
       "      <th>ubicacion</th>\n",
       "    </tr>\n",
       "  </thead>\n",
       "  <tbody>\n",
       "    <tr>\n",
       "      <th>count</th>\n",
       "      <td>1000</td>\n",
       "      <td>909</td>\n",
       "    </tr>\n",
       "    <tr>\n",
       "      <th>unique</th>\n",
       "      <td>279</td>\n",
       "      <td>5</td>\n",
       "    </tr>\n",
       "    <tr>\n",
       "      <th>top</th>\n",
       "      <td>Sede Principal</td>\n",
       "      <td>Ciudad C</td>\n",
       "    </tr>\n",
       "    <tr>\n",
       "      <th>freq</th>\n",
       "      <td>722</td>\n",
       "      <td>195</td>\n",
       "    </tr>\n",
       "  </tbody>\n",
       "</table>\n",
       "</div>"
      ],
      "text/plain": [
       "           nombre_sede ubicacion\n",
       "count             1000       909\n",
       "unique             279         5\n",
       "top     Sede Principal  Ciudad C\n",
       "freq               722       195"
      ]
     },
     "execution_count": 6,
     "metadata": {},
     "output_type": "execute_result"
    }
   ],
   "source": [
    "data.describe(include='O')"
   ]
  },
  {
   "cell_type": "markdown",
   "id": "84579c25",
   "metadata": {},
   "source": [
    "Visualizar el tamaño del dataset (dataframe)"
   ]
  },
  {
   "cell_type": "code",
   "execution_count": 7,
   "id": "eaebbcb1",
   "metadata": {},
   "outputs": [
    {
     "data": {
      "text/plain": [
       "(1000, 3)"
      ]
     },
     "execution_count": 7,
     "metadata": {},
     "output_type": "execute_result"
    }
   ],
   "source": [
    "data.shape"
   ]
  },
  {
   "cell_type": "markdown",
   "id": "5fe34ceb",
   "metadata": {},
   "source": [
    "OUTLIERS - Modo Grafico"
   ]
  },
  {
   "cell_type": "code",
   "execution_count": 8,
   "id": "33750aef",
   "metadata": {},
   "outputs": [
    {
     "data": {
      "image/png": "[encoded data removed]",
      "text/plain": [
       "<Figure size 1000x100 with 1 Axes>"
      ]
     },
     "metadata": {},
     "output_type": "display_data"
    }
   ],
   "source": [
    "cols = data.select_dtypes(include=['number']).columns\n",
    "for col in cols:\n",
    "    plt.figure(figsize=(10,1))\n",
    "    sns.boxplot(data=data[cols], x=col)\n",
    "    #sns.boxplot(x=data[col])\n",
    "    plt.title(f'Boxplot de {col}')\n",
    "    plt.show()"
   ]
  },
  {
   "cell_type": "markdown",
   "id": "5e36516b",
   "metadata": {},
   "source": [
    "OUTLIERS - Calculado\n",
    "\n",
    "rango intercuartilico IRQ"
   ]
  },
  {
   "cell_type": "code",
   "execution_count": 9,
   "id": "32541cb5",
   "metadata": {},
   "outputs": [
    {
     "name": "stdout",
     "output_type": "stream",
     "text": [
      "id_sede: 0 outliers\n",
      "  Límites: [-482.50, 1515.50]\n",
      "  Min: 17, Max: 1016\n",
      "----------------------------------------\n"
     ]
    }
   ],
   "source": [
    "outliers = {}\n",
    "\n",
    "for col in cols:\n",
    "    Q1 = np.percentile(data[col], 25)\n",
    "    Q3 = np.percentile(data[col], 75)\n",
    "    IQR = Q3 - Q1  # Rango Intercuartílico\n",
    "\n",
    "    LI = Q1 - 1.5 * IQR  # Límite inferior\n",
    "    LS = Q3 + 1.5 * IQR  # Límite superior\n",
    "\n",
    "    outliers_col = data[(data[col] < LI) | (data[col] > LS)][col]\n",
    "    outliers[col] = outliers_col\n",
    "\n",
    "    print(f'{col}: {len(outliers_col)} outliers')\n",
    "    print(f'  Límites: [{LI:.2f}, {LS:.2f}]')\n",
    "    print(f'  Min: {data[col].min()}, Max: {data[col].max()}')\n",
    "    print('-' * 40)"
   ]
  },
  {
   "cell_type": "markdown",
   "id": "43734b90",
   "metadata": {},
   "source": [
    "STR"
   ]
  },
  {
   "cell_type": "code",
   "execution_count": 10,
   "id": "a4ec366c",
   "metadata": {},
   "outputs": [
    {
     "name": "stdout",
     "output_type": "stream",
     "text": [
      "{'id_sede': np.int64(0)}\n"
     ]
    }
   ],
   "source": [
    "outliers={}\n",
    "for col in cols:\n",
    "  mean=data[col].mean()\n",
    "  std=data[col].std()\n",
    "\n",
    "  outliers[col] = (data[col] > (mean + 3 *std)).sum() + (data[col] < (mean - 3 *std)).sum()\n",
    "\n",
    "print(outliers)"
   ]
  },
  {
   "cell_type": "markdown",
   "id": "97e73943",
   "metadata": {},
   "source": [
    "Histogramas - Outliers"
   ]
  },
  {
   "cell_type": "code",
   "execution_count": 13,
   "id": "db5e97d1",
   "metadata": {},
   "outputs": [
    {
     "data": {
      "text/plain": [
       "<Axes: xlabel='id_sede', ylabel='Count'>"
      ]
     },
     "execution_count": 13,
     "metadata": {},
     "output_type": "execute_result"
    },
    {
     "data": {
      "image/png": "[encoded data removed]",
      "text/plain": [
       "<Figure size 640x480 with 1 Axes>"
      ]
     },
     "metadata": {},
     "output_type": "display_data"
    }
   ],
   "source": [
    "sns.histplot(data=data, x='id_sede', kde=True)"
   ]
  },
  {
   "cell_type": "markdown",
   "id": "ed960a86",
   "metadata": {},
   "source": [
    "Valores Nulos"
   ]
  },
  {
   "cell_type": "code",
   "execution_count": 14,
   "id": "e95c5575",
   "metadata": {},
   "outputs": [
    {
     "data": {
      "text/plain": [
       "id_sede        0.0\n",
       "nombre_sede    0.0\n",
       "ubicacion      9.1\n",
       "dtype: float64"
      ]
     },
     "execution_count": 14,
     "metadata": {},
     "output_type": "execute_result"
    }
   ],
   "source": [
    "data.isna().mean()*100"
   ]
  },
  {
   "cell_type": "markdown",
   "id": "efc23a2d",
   "metadata": {},
   "source": [
    "Eliminar valores Nulos"
   ]
  },
  {
   "cell_type": "code",
   "execution_count": null,
   "id": "95c443d7",
   "metadata": {},
   "outputs": [
    {
     "name": "stdout",
     "output_type": "stream",
     "text": [
      "<class 'pandas.core.frame.DataFrame'>\n",
      "Index: 909 entries, 0 to 999\n",
      "Data columns (total 3 columns):\n",
      " #   Column       Non-Null Count  Dtype \n",
      "---  ------       --------------  ----- \n",
      " 0   id_sede      909 non-null    int64 \n",
      " 1   nombre_sede  909 non-null    object\n",
      " 2   ubicacion    909 non-null    object\n",
      "dtypes: int64(1), object(2)\n",
      "memory usage: 28.4+ KB\n"
     ]
    }
   ],
   "source": [
    "# Eliminar filas con valores nulos en la columna y filas donde el nombre esta vacio (cadena vacia o solo espacios)\n",
    "data = data[data['nombre_sede'].notna() & (data['nombre_sede'] != '')]\n",
    "data = data[data['ubicacion'].notna() & (data['ubicacion'] != '')]\n",
    "data.info()"
   ]
  },
  {
   "cell_type": "markdown",
   "id": "87b9cb5e",
   "metadata": {},
   "source": [
    "Eliminar datos inconsistentes"
   ]
  },
  {
   "cell_type": "code",
   "execution_count": 40,
   "id": "3a141d80",
   "metadata": {},
   "outputs": [],
   "source": [
    "data = data[\n",
    "    data['nombre_sede'].notna() &\n",
    "    data['nombre_sede'].str.strip().str.lower().isin(['sede principal'])\n",
    "]\n"
   ]
  },
  {
   "cell_type": "code",
   "execution_count": 41,
   "id": "d7973e87",
   "metadata": {},
   "outputs": [
    {
     "name": "stdout",
     "output_type": "stream",
     "text": [
      "<class 'pandas.core.frame.DataFrame'>\n",
      "Index: 655 entries, 0 to 999\n",
      "Data columns (total 3 columns):\n",
      " #   Column       Non-Null Count  Dtype \n",
      "---  ------       --------------  ----- \n",
      " 0   id_sede      655 non-null    int64 \n",
      " 1   nombre_sede  655 non-null    object\n",
      " 2   ubicacion    655 non-null    object\n",
      "dtypes: int64(1), object(2)\n",
      "memory usage: 20.5+ KB\n"
     ]
    }
   ],
   "source": [
    "data.info()"
   ]
  },
  {
   "cell_type": "markdown",
   "id": "b29af40c",
   "metadata": {},
   "source": [
    "Guardar data limpia de valores nulos eliminados"
   ]
  },
  {
   "cell_type": "code",
   "execution_count": 42,
   "id": "93df6058",
   "metadata": {},
   "outputs": [],
   "source": [
    "data.to_csv('data/datos_preprocesados/sede.csv', index=False)"
   ]
  },
  {
   "cell_type": "markdown",
   "id": "53c14a84",
   "metadata": {},
   "source": [
    "Limpieza relacional"
   ]
  },
  {
   "cell_type": "code",
   "execution_count": 43,
   "id": "3fe5efc1",
   "metadata": {},
   "outputs": [],
   "source": [
    "alumnos = pd.read_csv('data/datos_procesador/alumno_limpio.csv')\n"
   ]
  },
  {
   "cell_type": "code",
   "execution_count": 44,
   "id": "98dbc888",
   "metadata": {},
   "outputs": [],
   "source": [
    "sede = pd.read_csv('data/datos_preprocesados/sede.csv')"
   ]
  },
  {
   "cell_type": "code",
   "execution_count": 45,
   "id": "762521db",
   "metadata": {},
   "outputs": [],
   "source": [
    "ids_sede_validos = alumnos['sede_id'].unique()\n",
    "sede = sede[sede['id_sede'].isin(ids_sede_validos)]\n"
   ]
  },
  {
   "cell_type": "code",
   "execution_count": 46,
   "id": "888de247",
   "metadata": {},
   "outputs": [
    {
     "name": "stdout",
     "output_type": "stream",
     "text": [
      "Filas finales en sede: 165\n",
      "IDs únicos en alumnos: 253\n",
      "IDs únicos en sede: 165\n"
     ]
    }
   ],
   "source": [
    "\n",
    "print('Filas finales en sede:', sede.shape[0])\n",
    "print('IDs únicos en alumnos:', alumnos['sede_id'].nunique())\n",
    "print('IDs únicos en sede:', sede['id_sede'].nunique())\n"
   ]
  },
  {
   "cell_type": "markdown",
   "id": "6ab948bd",
   "metadata": {},
   "source": [
    "Guardar datos"
   ]
  },
  {
   "cell_type": "code",
   "execution_count": 47,
   "id": "ff5a4b16",
   "metadata": {},
   "outputs": [],
   "source": [
    "sede.to_csv('data/datos_procesador/sede_limpia.csv', index=False)"
   ]
  }
 ],
 "metadata": {
  "kernelspec": {
   "display_name": "env",
   "language": "python",
   "name": "python3"
  },
  "language_info": {
   "codemirror_mode": {
    "name": "ipython",
    "version": 3
   },
   "file_extension": ".py",
   "mimetype": "text/x-python",
   "name": "python",
   "nbconvert_exporter": "python",
   "pygments_lexer": "ipython3",
   "version": "3.13.7"
  }
 },
 "nbformat": 4,
 "nbformat_minor": 5
}
