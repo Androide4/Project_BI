{
 "cells": [
  {
   "cell_type": "markdown",
   "id": "fe74655a",
   "metadata": {},
   "source": [
    "PROYECTO DE BI PARA ESCUELA DEPORTIVA, TABLA PAGO"
   ]
  },
  {
   "cell_type": "markdown",
   "id": "2cc5a503",
   "metadata": {},
   "source": [
    "PAQUETES E IMPORTACIONES A UTILIZAR"
   ]
  },
  {
   "cell_type": "code",
   "execution_count": 2,
   "id": "a630f0dd",
   "metadata": {},
   "outputs": [],
   "source": [
    "#crear entorno virtual en la carpeta del proyecto:\n",
    "# python -m venv env o mi_entorno\n",
    "# env/Script/Activate         para activar el entorno virtual en windows\n",
    "# source env/bin/activate     para activar en linux\n",
    "#instalar las siguientes librerias\n",
    "\n",
    "#desactivar / deactivate\n",
    "\n",
    "import pandas as pd\n",
    "import matplotlib.pyplot as plt\n",
    "import seaborn as sns\n",
    "import numpy as np\n",
    "from sklearn.impute import SimpleImputer #pip install scikit-learn\n"
   ]
  },
  {
   "cell_type": "markdown",
   "id": "81de621d",
   "metadata": {},
   "source": [
    "Cargar los datos"
   ]
  },
  {
   "cell_type": "code",
   "execution_count": 3,
   "id": "926658cb",
   "metadata": {},
   "outputs": [],
   "source": [
    "data = pd.read_json('data/datos_sinprocesar/pago_202510101518.json')"
   ]
  },
  {
   "cell_type": "markdown",
   "id": "1113f02e",
   "metadata": {},
   "source": [
    "Visualizar los datos"
   ]
  },
  {
   "cell_type": "code",
   "execution_count": 4,
   "id": "374d6ac5",
   "metadata": {},
   "outputs": [
    {
     "data": {
      "text/html": [
       "<div>\n",
       "<style scoped>\n",
       "    .dataframe tbody tr th:only-of-type {\n",
       "        vertical-align: middle;\n",
       "    }\n",
       "\n",
       "    .dataframe tbody tr th {\n",
       "        vertical-align: top;\n",
       "    }\n",
       "\n",
       "    .dataframe thead th {\n",
       "        text-align: right;\n",
       "    }\n",
       "</style>\n",
       "<table border=\"1\" class=\"dataframe\">\n",
       "  <thead>\n",
       "    <tr style=\"text-align: right;\">\n",
       "      <th></th>\n",
       "      <th>id_pago</th>\n",
       "      <th>fecha</th>\n",
       "      <th>valor_pago</th>\n",
       "      <th>periodo</th>\n",
       "      <th>alumno_id</th>\n",
       "    </tr>\n",
       "  </thead>\n",
       "  <tbody>\n",
       "    <tr>\n",
       "      <th>0</th>\n",
       "      <td>1</td>\n",
       "      <td>2025-03-13 10:49:09</td>\n",
       "      <td>108322.02</td>\n",
       "      <td>2025-02</td>\n",
       "      <td>314</td>\n",
       "    </tr>\n",
       "    <tr>\n",
       "      <th>1</th>\n",
       "      <td>2</td>\n",
       "      <td>2025-03-03 20:18:22</td>\n",
       "      <td>145432.21</td>\n",
       "      <td>2025-03</td>\n",
       "      <td>375</td>\n",
       "    </tr>\n",
       "    <tr>\n",
       "      <th>2</th>\n",
       "      <td>3</td>\n",
       "      <td>2024-10-12 08:09:12</td>\n",
       "      <td>50000.00</td>\n",
       "      <td>2025-02</td>\n",
       "      <td>54</td>\n",
       "    </tr>\n",
       "    <tr>\n",
       "      <th>3</th>\n",
       "      <td>4</td>\n",
       "      <td>2025-03-16 00:39:41</td>\n",
       "      <td>50000.00</td>\n",
       "      <td>2025-05</td>\n",
       "      <td>529</td>\n",
       "    </tr>\n",
       "    <tr>\n",
       "      <th>4</th>\n",
       "      <td>5</td>\n",
       "      <td>2024-11-11 11:04:31</td>\n",
       "      <td>50000.00</td>\n",
       "      <td>oRjibsu</td>\n",
       "      <td>531</td>\n",
       "    </tr>\n",
       "  </tbody>\n",
       "</table>\n",
       "</div>"
      ],
      "text/plain": [
       "   id_pago                fecha  valor_pago  periodo  alumno_id\n",
       "0        1  2025-03-13 10:49:09   108322.02  2025-02        314\n",
       "1        2  2025-03-03 20:18:22   145432.21  2025-03        375\n",
       "2        3  2024-10-12 08:09:12    50000.00  2025-02         54\n",
       "3        4  2025-03-16 00:39:41    50000.00  2025-05        529\n",
       "4        5  2024-11-11 11:04:31    50000.00  oRjibsu        531"
      ]
     },
     "execution_count": 4,
     "metadata": {},
     "output_type": "execute_result"
    }
   ],
   "source": [
    "pago_data = data['pago']\n",
    "df_pagos = pd.json_normalize(pago_data)\n",
    "\n",
    "df_pagos.head()\n"
   ]
  },
  {
   "cell_type": "markdown",
   "id": "1daf171f",
   "metadata": {},
   "source": [
    "Verificar la estructura de los datos"
   ]
  },
  {
   "cell_type": "code",
   "execution_count": 5,
   "id": "bd4bda89",
   "metadata": {},
   "outputs": [
    {
     "name": "stdout",
     "output_type": "stream",
     "text": [
      "<class 'pandas.core.frame.DataFrame'>\n",
      "RangeIndex: 1000 entries, 0 to 999\n",
      "Data columns (total 5 columns):\n",
      " #   Column      Non-Null Count  Dtype  \n",
      "---  ------      --------------  -----  \n",
      " 0   id_pago     1000 non-null   int64  \n",
      " 1   fecha       1000 non-null   object \n",
      " 2   valor_pago  906 non-null    float64\n",
      " 3   periodo     920 non-null    object \n",
      " 4   alumno_id   1000 non-null   int64  \n",
      "dtypes: float64(1), int64(2), object(2)\n",
      "memory usage: 39.2+ KB\n"
     ]
    }
   ],
   "source": [
    "df_pagos.info()"
   ]
  },
  {
   "cell_type": "markdown",
   "id": "e870396a",
   "metadata": {},
   "source": [
    "Estadistico"
   ]
  },
  {
   "cell_type": "code",
   "execution_count": 6,
   "id": "5c5c7c5f",
   "metadata": {},
   "outputs": [
    {
     "data": {
      "text/html": [
       "<div>\n",
       "<style scoped>\n",
       "    .dataframe tbody tr th:only-of-type {\n",
       "        vertical-align: middle;\n",
       "    }\n",
       "\n",
       "    .dataframe tbody tr th {\n",
       "        vertical-align: top;\n",
       "    }\n",
       "\n",
       "    .dataframe thead th {\n",
       "        text-align: right;\n",
       "    }\n",
       "</style>\n",
       "<table border=\"1\" class=\"dataframe\">\n",
       "  <thead>\n",
       "    <tr style=\"text-align: right;\">\n",
       "      <th></th>\n",
       "      <th>id_pago</th>\n",
       "      <th>valor_pago</th>\n",
       "      <th>alumno_id</th>\n",
       "    </tr>\n",
       "  </thead>\n",
       "  <tbody>\n",
       "    <tr>\n",
       "      <th>count</th>\n",
       "      <td>1000.000000</td>\n",
       "      <td>906.000000</td>\n",
       "      <td>1000.000000</td>\n",
       "    </tr>\n",
       "    <tr>\n",
       "      <th>mean</th>\n",
       "      <td>500.500000</td>\n",
       "      <td>59761.562108</td>\n",
       "      <td>493.975000</td>\n",
       "    </tr>\n",
       "    <tr>\n",
       "      <th>std</th>\n",
       "      <td>288.819436</td>\n",
       "      <td>24396.337754</td>\n",
       "      <td>294.261979</td>\n",
       "    </tr>\n",
       "    <tr>\n",
       "      <th>min</th>\n",
       "      <td>1.000000</td>\n",
       "      <td>20041.860000</td>\n",
       "      <td>1.000000</td>\n",
       "    </tr>\n",
       "    <tr>\n",
       "      <th>25%</th>\n",
       "      <td>250.750000</td>\n",
       "      <td>50000.000000</td>\n",
       "      <td>243.750000</td>\n",
       "    </tr>\n",
       "    <tr>\n",
       "      <th>50%</th>\n",
       "      <td>500.500000</td>\n",
       "      <td>50000.000000</td>\n",
       "      <td>479.500000</td>\n",
       "    </tr>\n",
       "    <tr>\n",
       "      <th>75%</th>\n",
       "      <td>750.250000</td>\n",
       "      <td>50000.000000</td>\n",
       "      <td>756.000000</td>\n",
       "    </tr>\n",
       "    <tr>\n",
       "      <th>max</th>\n",
       "      <td>1000.000000</td>\n",
       "      <td>149256.130000</td>\n",
       "      <td>999.000000</td>\n",
       "    </tr>\n",
       "  </tbody>\n",
       "</table>\n",
       "</div>"
      ],
      "text/plain": [
       "           id_pago     valor_pago    alumno_id\n",
       "count  1000.000000     906.000000  1000.000000\n",
       "mean    500.500000   59761.562108   493.975000\n",
       "std     288.819436   24396.337754   294.261979\n",
       "min       1.000000   20041.860000     1.000000\n",
       "25%     250.750000   50000.000000   243.750000\n",
       "50%     500.500000   50000.000000   479.500000\n",
       "75%     750.250000   50000.000000   756.000000\n",
       "max    1000.000000  149256.130000   999.000000"
      ]
     },
     "execution_count": 6,
     "metadata": {},
     "output_type": "execute_result"
    }
   ],
   "source": [
    "df_pagos.describe()"
   ]
  },
  {
   "cell_type": "markdown",
   "id": "18fbe6c7",
   "metadata": {},
   "source": [
    "Estadistica de Campos Categoricos"
   ]
  },
  {
   "cell_type": "code",
   "execution_count": 7,
   "id": "25717be0",
   "metadata": {},
   "outputs": [
    {
     "data": {
      "text/html": [
       "<div>\n",
       "<style scoped>\n",
       "    .dataframe tbody tr th:only-of-type {\n",
       "        vertical-align: middle;\n",
       "    }\n",
       "\n",
       "    .dataframe tbody tr th {\n",
       "        vertical-align: top;\n",
       "    }\n",
       "\n",
       "    .dataframe thead th {\n",
       "        text-align: right;\n",
       "    }\n",
       "</style>\n",
       "<table border=\"1\" class=\"dataframe\">\n",
       "  <thead>\n",
       "    <tr style=\"text-align: right;\">\n",
       "      <th></th>\n",
       "      <th>fecha</th>\n",
       "      <th>periodo</th>\n",
       "    </tr>\n",
       "  </thead>\n",
       "  <tbody>\n",
       "    <tr>\n",
       "      <th>count</th>\n",
       "      <td>1000</td>\n",
       "      <td>920</td>\n",
       "    </tr>\n",
       "    <tr>\n",
       "      <th>unique</th>\n",
       "      <td>1000</td>\n",
       "      <td>140</td>\n",
       "    </tr>\n",
       "    <tr>\n",
       "      <th>top</th>\n",
       "      <td>2025-03-13 10:49:09</td>\n",
       "      <td>2025-02</td>\n",
       "    </tr>\n",
       "    <tr>\n",
       "      <th>freq</th>\n",
       "      <td>1</td>\n",
       "      <td>174</td>\n",
       "    </tr>\n",
       "  </tbody>\n",
       "</table>\n",
       "</div>"
      ],
      "text/plain": [
       "                      fecha  periodo\n",
       "count                  1000      920\n",
       "unique                 1000      140\n",
       "top     2025-03-13 10:49:09  2025-02\n",
       "freq                      1      174"
      ]
     },
     "execution_count": 7,
     "metadata": {},
     "output_type": "execute_result"
    }
   ],
   "source": [
    "df_pagos.describe(include='O')"
   ]
  },
  {
   "cell_type": "markdown",
   "id": "84579c25",
   "metadata": {},
   "source": [
    "Visualizar el tamaño del dataset (dataframe)"
   ]
  },
  {
   "cell_type": "code",
   "execution_count": 8,
   "id": "eaebbcb1",
   "metadata": {},
   "outputs": [
    {
     "data": {
      "text/plain": [
       "(1000, 5)"
      ]
     },
     "execution_count": 8,
     "metadata": {},
     "output_type": "execute_result"
    }
   ],
   "source": [
    "df_pagos.shape"
   ]
  },
  {
   "cell_type": "markdown",
   "id": "5fe34ceb",
   "metadata": {},
   "source": [
    "OUTLIERS - Modo Grafico"
   ]
  },
  {
   "cell_type": "code",
   "execution_count": 9,
   "id": "33750aef",
   "metadata": {},
   "outputs": [
    {
     "data": {
      "image/png": "[encoded data removed]",
      "text/plain": [
       "<Figure size 1000x100 with 1 Axes>"
      ]
     },
     "metadata": {},
     "output_type": "display_data"
    },
    {
     "data": {
      "image/png": "[encoded data removed]",
      "text/plain": [
       "<Figure size 1000x100 with 1 Axes>"
      ]
     },
     "metadata": {},
     "output_type": "display_data"
    },
    {
     "data": {
      "image/png": "[encoded data removed]",
      "text/plain": [
       "<Figure size 1000x100 with 1 Axes>"
      ]
     },
     "metadata": {},
     "output_type": "display_data"
    }
   ],
   "source": [
    "cols = df_pagos.select_dtypes(include=['number']).columns\n",
    "for col in cols:\n",
    "    plt.figure(figsize=(10, 1))  \n",
    "    sns.boxplot(data=df_pagos, x=col) \n",
    "    plt.title(f'Boxplot de {col}')  \n",
    "    plt.show()  "
   ]
  },
  {
   "cell_type": "markdown",
   "id": "5e36516b",
   "metadata": {},
   "source": [
    "OUTLIERS - Calculado\n",
    "\n",
    "rango intercuartilico IRQ"
   ]
  },
  {
   "cell_type": "code",
   "execution_count": 10,
   "id": "32541cb5",
   "metadata": {},
   "outputs": [
    {
     "name": "stdout",
     "output_type": "stream",
     "text": [
      "id_pago: 0 outliers\n",
      "  Límites: [-498.50, 1499.50]\n",
      "  Min: 1, Max: 1000\n",
      "----------------------------------------\n",
      "valor_pago: 0 outliers\n",
      "  Límites: [nan, nan]\n",
      "  Min: 20041.86, Max: 149256.13\n",
      "----------------------------------------\n",
      "alumno_id: 0 outliers\n",
      "  Límites: [-524.62, 1524.38]\n",
      "  Min: 1, Max: 999\n",
      "----------------------------------------\n"
     ]
    }
   ],
   "source": [
    "outliers = {}\n",
    "\n",
    "for col in cols:\n",
    "    Q1 = np.percentile(df_pagos[col], 25)  \n",
    "    Q3 = np.percentile(df_pagos[col], 75)  \n",
    "    IQR = Q3 - Q1  \n",
    "\n",
    "    LI = Q1 - 1.5 * IQR \n",
    "    LS = Q3 + 1.5 * IQR \n",
    "\n",
    "\n",
    "    outliers_col = df_pagos[(df_pagos[col] < LI) | (df_pagos[col] > LS)][col]\n",
    "    outliers[col] = outliers_col\n",
    "\n",
    "\n",
    "    print(f'{col}: {len(outliers_col)} outliers')\n",
    "    print(f'  Límites: [{LI:.2f}, {LS:.2f}]')\n",
    "    print(f'  Min: {df_pagos[col].min()}, Max: {df_pagos[col].max()}')\n",
    "    print('-' * 40)"
   ]
  },
  {
   "cell_type": "markdown",
   "id": "43734b90",
   "metadata": {},
   "source": [
    "STR"
   ]
  },
  {
   "cell_type": "code",
   "execution_count": 11,
   "id": "a4ec366c",
   "metadata": {},
   "outputs": [
    {
     "name": "stdout",
     "output_type": "stream",
     "text": [
      "{'id_pago': np.int64(0), 'valor_pago': np.int64(26), 'alumno_id': np.int64(0)}\n"
     ]
    }
   ],
   "source": [
    "outliers={}\n",
    "for col in cols:\n",
    "  mean=df_pagos[col].mean()\n",
    "  std=df_pagos[col].std()\n",
    "\n",
    "  outliers[col] = (df_pagos[col] > (mean + 3 *std)).sum() + (df_pagos[col] < (mean - 3 *std)).sum()\n",
    "\n",
    "print(outliers)"
   ]
  },
  {
   "cell_type": "markdown",
   "id": "97e73943",
   "metadata": {},
   "source": [
    "Histogramas - Outliers"
   ]
  },
  {
   "cell_type": "code",
   "execution_count": 12,
   "id": "db5e97d1",
   "metadata": {},
   "outputs": [
    {
     "data": {
      "text/plain": [
       "<Axes: xlabel='valor_pago', ylabel='Count'>"
      ]
     },
     "execution_count": 12,
     "metadata": {},
     "output_type": "execute_result"
    },
    {
     "data": {
      "image/png": "[encoded data removed]",
      "text/plain": [
       "<Figure size 640x480 with 1 Axes>"
      ]
     },
     "metadata": {},
     "output_type": "display_data"
    }
   ],
   "source": [
    "sns.histplot(data=df_pagos, x='valor_pago', kde=True)\n"
   ]
  },
  {
   "cell_type": "markdown",
   "id": "ed960a86",
   "metadata": {},
   "source": [
    "Valores Nulos"
   ]
  },
  {
   "cell_type": "code",
   "execution_count": 34,
   "id": "e95c5575",
   "metadata": {},
   "outputs": [
    {
     "data": {
      "text/plain": [
       "id_pago       0.0\n",
       "fecha         0.0\n",
       "valor_pago    9.4\n",
       "periodo       8.0\n",
       "alumno_id     0.0\n",
       "dtype: float64"
      ]
     },
     "execution_count": 34,
     "metadata": {},
     "output_type": "execute_result"
    }
   ],
   "source": [
    "df_pagos.isna().mean() * 100"
   ]
  },
  {
   "cell_type": "markdown",
   "id": "efc23a2d",
   "metadata": {},
   "source": [
    "Eliminar valores Nulos"
   ]
  },
  {
   "cell_type": "code",
   "execution_count": 31,
   "id": "95c443d7",
   "metadata": {},
   "outputs": [
    {
     "name": "stdout",
     "output_type": "stream",
     "text": [
      "<class 'pandas.core.frame.DataFrame'>\n",
      "Index: 503 entries, 0 to 710\n",
      "Data columns (total 5 columns):\n",
      " #   Column      Non-Null Count  Dtype  \n",
      "---  ------      --------------  -----  \n",
      " 0   id_pago     503 non-null    int64  \n",
      " 1   fecha       503 non-null    object \n",
      " 2   valor_pago  503 non-null    float64\n",
      " 3   periodo     503 non-null    object \n",
      " 4   alumno_id   503 non-null    int64  \n",
      "dtypes: float64(1), int64(2), object(2)\n",
      "memory usage: 23.6+ KB\n"
     ]
    }
   ],
   "source": [
    "# Eliminar filas con valores nulos en la columna y filas donde el nombre esta vacio (cadena vacia o solo espacios)\n",
    "df_pagos = df_pagos[df_pagos['fecha'].notna() & (df_pagos['fecha'] != '')]\n",
    "df_pagos = df_pagos[df_pagos['valor_pago'].notna() & (df_pagos['valor_pago'] != '')]\n",
    "df_pagos = df_pagos[df_pagos['periodo'].notna() & (df_pagos['periodo'] != '')]\n",
    "df_pagos.info()"
   ]
  },
  {
   "cell_type": "markdown",
   "id": "80bdcf9d",
   "metadata": {},
   "source": [
    "Eliminar datos inconsistentes"
   ]
  },
  {
   "cell_type": "code",
   "execution_count": 32,
   "id": "b6940abb",
   "metadata": {},
   "outputs": [
    {
     "name": "stdout",
     "output_type": "stream",
     "text": [
      "<class 'pandas.core.frame.DataFrame'>\n",
      "Index: 503 entries, 0 to 710\n",
      "Data columns (total 5 columns):\n",
      " #   Column      Non-Null Count  Dtype  \n",
      "---  ------      --------------  -----  \n",
      " 0   id_pago     503 non-null    int64  \n",
      " 1   fecha       503 non-null    object \n",
      " 2   valor_pago  503 non-null    float64\n",
      " 3   periodo     503 non-null    object \n",
      " 4   alumno_id   503 non-null    int64  \n",
      "dtypes: float64(1), int64(2), object(2)\n",
      "memory usage: 23.6+ KB\n"
     ]
    }
   ],
   "source": [
    "df_pagos = df_pagos[df_pagos['periodo'].str.match(r'^\\d{4}-\\d{2}$')] \n",
    "\n",
    "\n",
    "df_pagos.info()"
   ]
  },
  {
   "cell_type": "markdown",
   "id": "21955fe6",
   "metadata": {},
   "source": [
    "Guardar data limpia de valores nulos eliminados"
   ]
  },
  {
   "cell_type": "code",
   "execution_count": 36,
   "id": "5fee123d",
   "metadata": {},
   "outputs": [],
   "source": [
    "pago_list = df_pagos.to_dict(orient='records')\n",
    "\n",
    "json_data = {\"pago\": pago_list}\n",
    "\n",
    "\n",
    "import json\n",
    "with open('data/datos_preprocesados/pago.json', 'w') as f:\n",
    "    json.dump(json_data, f, indent=4)"
   ]
  },
  {
   "cell_type": "markdown",
   "id": "949806e4",
   "metadata": {},
   "source": [
    "Imputar datos"
   ]
  },
  {
   "cell_type": "code",
   "execution_count": 37,
   "id": "78cf64fc",
   "metadata": {},
   "outputs": [
    {
     "name": "stdout",
     "output_type": "stream",
     "text": [
      "Mediana inicial de valor_pago:  50000.0\n",
      "\n",
      "Nulos en los nuevos datos:  150\n",
      "\n",
      "Mediana de los nuevos datos de valor_pago:  50000.0\n"
     ]
    }
   ],
   "source": [
    "impute = SimpleImputer(strategy='median')\n",
    "\n",
    "print('Mediana inicial de valor_pago: ', df_pagos['valor_pago'].median())\n",
    "salida = impute.fit_transform(df_pagos[['valor_pago']])\n",
    "salida = pd.DataFrame(salida, columns=['valor_pago'])\n",
    "df_pagos['valor_pago'] = salida['valor_pago']\n",
    "print('\\nNulos en los nuevos datos: ', df_pagos['valor_pago'].isna().sum())\n",
    "print('\\nMediana de los nuevos datos de valor_pago: ', df_pagos['valor_pago'].median())"
   ]
  }
 ],
 "metadata": {
  "kernelspec": {
   "display_name": "env",
   "language": "python",
   "name": "python3"
  },
  "language_info": {
   "codemirror_mode": {
    "name": "ipython",
    "version": 3
   },
   "file_extension": ".py",
   "mimetype": "text/x-python",
   "name": "python",
   "nbconvert_exporter": "python",
   "pygments_lexer": "ipython3",
   "version": "3.13.7"
  }
 },
 "nbformat": 4,
 "nbformat_minor": 5
}
